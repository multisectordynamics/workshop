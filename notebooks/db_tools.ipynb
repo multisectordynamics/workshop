{
 "cells": [
  {
   "cell_type": "markdown",
   "id": "551449d5-0765-496c-b641-7aa64ea9f62d",
   "metadata": {},
   "source": [
    "## Database Builder and Extractor for DuckDB\n"
   ]
  },
  {
   "cell_type": "code",
   "execution_count": 2,
   "id": "276e1b9f-674d-43bd-a166-aa2c718d7bc5",
   "metadata": {},
   "outputs": [],
   "source": [
    "import os\n",
    "\n",
    "import duckdb\n",
    "import pandas as pd\n"
   ]
  },
  {
   "cell_type": "markdown",
   "id": "530d0299-9fb4-42aa-9f0e-53b2aeca6740",
   "metadata": {},
   "source": [
    "## directory structure"
   ]
  },
  {
   "cell_type": "code",
   "execution_count": 3,
   "id": "74856555-43de-4e04-ba46-1195fd2f79dd",
   "metadata": {},
   "outputs": [],
   "source": [
    "# the local data you have cloned the workshop repo to\n",
    "data_directory = \"/Users/d3y010/repos/github/workshop/data\"\n",
    "\n",
    "# path to where you want to create or the current database\n",
    "db_file = os.path.join(data_directory, \"data.duckdb\")\n",
    "\n",
    "# path to files used to build the input data\n",
    "tbl_reviewer_file = os.path.join(data_directory, \"tbl_reviewers.csv\")\n",
    "tbl_source_file = os.path.join(data_directory, \"tbl_source.csv\")\n"
   ]
  },
  {
   "cell_type": "markdown",
   "id": "414a99f9-67d3-4ccb-b03b-bc9a01c15c84",
   "metadata": {},
   "source": [
    "## define table schema"
   ]
  },
  {
   "cell_type": "code",
   "execution_count": 4,
   "id": "c4a1e7e7-66de-4566-abea-2032390a2534",
   "metadata": {},
   "outputs": [],
   "source": [
    "tbl_schema = \"\"\"\n",
    "CREATE TABLE tbl_log\n",
    "(\n",
    "reviewer_id INTEGER, \n",
    "document_id INTEGER, \n",
    "conflict VARCHAR\n",
    ");\n",
    "\n",
    "CREATE TABLE tbl_response\n",
    "(\n",
    "reviewer_id INTEGER, \n",
    "reviewer_name VARCHAR,\n",
    "document_id INTEGER,\n",
    "alignment INTEGER,\n",
    "science INTEGER,\n",
    "benefits INTEGER,\n",
    "comments VARCHAR,\n",
    "screening_order INTEGER\n",
    ");\n",
    "\n",
    "CREATE TABLE tbl_reviewer\n",
    "(\n",
    "reviewer_id INTEGER, \n",
    "reviewer_name VARCHAR,\n",
    ");\n",
    "\n",
    "CREATE TABLE tbl_source\n",
    "(\n",
    "document_id INTEGER,\n",
    "submission_timestamp TIMESTAMP,\n",
    "email VARCHAR,\n",
    "first_name VARCHAR,\n",
    "last_name VARCHAR,\n",
    "phone VARCHAR,\n",
    "institution VARCHAR,\n",
    "authors VARCHAR,\n",
    "title VARCHAR,\n",
    "abstract VARCHAR,\n",
    "biosketch VARCHAR,\n",
    "leverage_plan VARCHAR,\n",
    "student VARCHAR,\n",
    "early_career VARCHAR,\n",
    "registration_waiver VARCHAR,\n",
    "travel_award VARCHAR,\n",
    "poster_competition VARCHAR,\n",
    "breakout_sessions VARCHAR\n",
    ");\n",
    "\n",
    "\"\"\"\n"
   ]
  },
  {
   "cell_type": "markdown",
   "id": "6f756b9b-af72-422f-a9ee-c3dced10c558",
   "metadata": {},
   "source": [
    "## build database"
   ]
  },
  {
   "cell_type": "code",
   "execution_count": 5,
   "id": "d561e47b-0454-4a32-98fa-23d2b6432c97",
   "metadata": {},
   "outputs": [],
   "source": [
    "with duckdb.connect(db_file) as con:\n",
    "    cursor = con.cursor()\n",
    "    con.sql(tbl_schema)\n"
   ]
  },
  {
   "cell_type": "markdown",
   "id": "f1335bee-0de7-4c85-8e1f-613dc9423e29",
   "metadata": {},
   "source": [
    "## check build"
   ]
  },
  {
   "cell_type": "code",
   "execution_count": 6,
   "id": "6a1cba10-5d2d-4f44-b050-ec5ace13eaf5",
   "metadata": {},
   "outputs": [
    {
     "name": "stdout",
     "output_type": "stream",
     "text": [
      "tbl_log\n",
      "tbl_response\n",
      "tbl_reviewer\n",
      "tbl_source\n"
     ]
    }
   ],
   "source": [
    "# create a connection to a file\n",
    "with duckdb.connect(db_file) as con:\n",
    "\n",
    "    cursor = con.cursor()\n",
    "\n",
    "    cursor.execute(\"SHOW TABLES\")\n",
    "\n",
    "    tables = cursor.fetchall()\n",
    "    for table in tables:\n",
    "        print(table[0])\n"
   ]
  },
  {
   "cell_type": "code",
   "execution_count": 7,
   "id": "db647052-57f6-4fe8-94d6-854772cf24d6",
   "metadata": {},
   "outputs": [
    {
     "data": {
      "text/plain": [
       "[('reviewer_id', 'INTEGER', 'YES', None, None, None),\n",
       " ('reviewer_name', 'VARCHAR', 'YES', None, None, None),\n",
       " ('document_id', 'INTEGER', 'YES', None, None, None),\n",
       " ('alignment', 'INTEGER', 'YES', None, None, None),\n",
       " ('science', 'INTEGER', 'YES', None, None, None),\n",
       " ('benefits', 'INTEGER', 'YES', None, None, None),\n",
       " ('comments', 'VARCHAR', 'YES', None, None, None),\n",
       " ('screening_order', 'INTEGER', 'YES', None, None, None)]"
      ]
     },
     "execution_count": 7,
     "metadata": {},
     "output_type": "execute_result"
    }
   ],
   "source": [
    "with duckdb.connect(db_file) as con:\n",
    "    cursor = con.cursor()\n",
    "\n",
    "    sql = \"DESCRIBE tbl_response;\"\n",
    "    cursor.execute(sql)\n",
    "    x = cursor.fetchall()\n",
    "    \n",
    "x\n"
   ]
  },
  {
   "cell_type": "markdown",
   "id": "5946f98b-6654-432a-adaf-0af9f2133abd",
   "metadata": {},
   "source": [
    "## add starter data from CSV files"
   ]
  },
  {
   "cell_type": "code",
   "execution_count": 8,
   "id": "c174fb3c-ae2a-45d4-84f5-a3bcd946700f",
   "metadata": {},
   "outputs": [],
   "source": [
    "df_source = pd.read_csv(tbl_source_file)\n",
    "df_reviewer = pd.read_csv(tbl_reviewer_file)\n",
    "\n",
    "with duckdb.connect(db_file) as con:\n",
    "    \n",
    "    cursor = con.cursor()\n",
    "\n",
    "    con.execute(\"INSERT INTO tbl_source SELECT * FROM df_source\")\n",
    "    con.execute(\"INSERT INTO tbl_reviewer SELECT * FROM df_reviewer\")\n",
    "\n"
   ]
  },
  {
   "cell_type": "markdown",
   "id": "998a64f2-98b6-4966-969c-b83bad7dfc61",
   "metadata": {},
   "source": [
    "## view data"
   ]
  },
  {
   "cell_type": "code",
   "execution_count": null,
   "id": "e1513e2f-e10d-4dfa-a080-5f7bfb4bc3bf",
   "metadata": {},
   "outputs": [],
   "source": [
    "with duckdb.connect(db_file) as con:\n",
    "    \n",
    "    cursor = con.cursor()\n",
    "\n",
    "    x = con.execute(\"SELECT * FROM tbl_source\").df()\n",
    "\n",
    "x\n"
   ]
  },
  {
   "cell_type": "markdown",
   "id": "e869baa9-ebdd-4cca-90ab-d71e998577e3",
   "metadata": {},
   "source": [
    "## dump database contents to file"
   ]
  },
  {
   "cell_type": "code",
   "execution_count": 11,
   "id": "ecf5bb32-4c09-448f-a4f1-d416a69e94e1",
   "metadata": {},
   "outputs": [],
   "source": [
    "with duckdb.connect(db_file) as con:\n",
    "    \n",
    "    cursor = con.cursor()\n",
    "\n",
    "    cursor.execute(\"SHOW TABLES\")\n",
    "\n",
    "    tables = cursor.fetchall()\n",
    "    for table in tables:\n",
    "        \n",
    "        # dumped db to parquet file\n",
    "        dumped_db_file = os.path.join(data_directory, f\"data_{table[0]}.parquet\")\n",
    "        \n",
    "        con.execute(f\"\"\"\n",
    "            COPY (SELECT * FROM {table[0]}) TO '{dumped_db_file}' (FORMAT 'parquet')\n",
    "        \"\"\")\n"
   ]
  },
  {
   "cell_type": "code",
   "execution_count": null,
   "id": "59a336df-4045-46a0-97a3-1d81320b26c8",
   "metadata": {},
   "outputs": [],
   "source": []
  }
 ],
 "metadata": {
  "kernelspec": {
   "display_name": "py3.11.7_nlp",
   "language": "python",
   "name": "py3.11.7_nlp"
  },
  "language_info": {
   "codemirror_mode": {
    "name": "ipython",
    "version": 3
   },
   "file_extension": ".py",
   "mimetype": "text/x-python",
   "name": "python",
   "nbconvert_exporter": "python",
   "pygments_lexer": "ipython3",
   "version": "3.11.7"
  }
 },
 "nbformat": 4,
 "nbformat_minor": 5
}
